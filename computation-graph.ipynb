{
 "cells": [
  {
   "cell_type": "code",
   "execution_count": 1,
   "metadata": {},
   "outputs": [],
   "source": [
    "import numpy as np"
   ]
  },
  {
   "cell_type": "code",
   "execution_count": 2,
   "metadata": {},
   "outputs": [],
   "source": [
    "class Operation:\n",
    "    \"\"\"Represents a Node in the Computation Graph\"\"\"\n",
    "    \n",
    "    def __init__(self, input_nodes = []):\n",
    "        \"\"\"Constructs an Operation with input_nodes as inputs\n",
    "           which computes outputs to zero or more consumers\"\"\"\n",
    "        self.input_nodes = input_nodes\n",
    "        self.consumers = []\n",
    "        \n",
    "        # Connect this node with its inputs, by adding it as a consumer to its inputs\n",
    "        for input_node in self.input_nodes:\n",
    "            input_node.consumers.append(self)\n",
    "        \n",
    "        # Add this operation to the Computation Graph\n",
    "        # TODO: provide the graph explicitly\n",
    "        _default_graph.operations.append(self)\n",
    "    \n",
    "    def compute(self):\n",
    "        \"\"\"Computes the output of the operation. Depends on the specific operation.\"\"\"\n",
    "        pass"
   ]
  },
  {
   "cell_type": "code",
   "execution_count": 3,
   "metadata": {},
   "outputs": [],
   "source": [
    "class Add(Operation):\n",
    "    def __init__(self, x, y):\n",
    "        super().__init__(input_nodes=[x, y])\n",
    "    \n",
    "    def compute(self, x, y):\n",
    "        return x + y"
   ]
  },
  {
   "cell_type": "code",
   "execution_count": 4,
   "metadata": {},
   "outputs": [],
   "source": [
    "class Matmul(Operation):\n",
    "    def __init__(self, A, B):\n",
    "        super().__init__(input_nodes=[A, B])\n",
    "\n",
    "    def compute(self, A, B):\n",
    "        return A.dot(B)"
   ]
  },
  {
   "cell_type": "code",
   "execution_count": 5,
   "metadata": {},
   "outputs": [],
   "source": [
    "class Placeholder:\n",
    "    \"\"\"Represents an input node which doesn't have any inputs\n",
    "       and can only be consumed by other Nodes in the Computation Graph.\n",
    "       \n",
    "       The Placeholder has a fixed value. Acts like a constant.\"\"\"\n",
    "    \n",
    "    def __init__(self):\n",
    "        self.consumers = []\n",
    "        \n",
    "        # Register the placeholder in the Computation Graph\n",
    "        # TODO: provide the graph explicitly\n",
    "        _default_graph.placeholders.append(self)"
   ]
  },
  {
   "cell_type": "code",
   "execution_count": 6,
   "metadata": {},
   "outputs": [],
   "source": [
    "class Variable:\n",
    "    \"\"\"Represents a parameter in the Computation Graph.\n",
    "       This node doesn't have any inputs and has only consumers.\n",
    "       \n",
    "       The Variable's value can change. It is initialized to initial_value.\"\"\"\n",
    "    \n",
    "    def __init__(self, initial_value=None):\n",
    "        self.value = initial_value\n",
    "        self.consumers = []\n",
    "        \n",
    "        # Register the variable in the Computation Graph\n",
    "        # TODO: provide the graph explicitly\n",
    "        _default_graph.variables.append(self)"
   ]
  },
  {
   "cell_type": "code",
   "execution_count": 7,
   "metadata": {},
   "outputs": [],
   "source": [
    "class Graph:\n",
    "    \"\"\"Represents the actual Computation Graph which has 3 types of Nodes:\n",
    "       - placeholders\n",
    "       - variables\n",
    "       - operations\n",
    "    \"\"\"\n",
    "    \n",
    "    def __init__(self, placeholders=[], variables=[], operations=[]):\n",
    "        self.placeholders = placeholders\n",
    "        self.variables = variables\n",
    "        self.operations = operations\n",
    "\n",
    "    def as_default(self):\n",
    "        global _default_graph\n",
    "        _default_graph = self\n",
    "        return _default_graph"
   ]
  },
  {
   "cell_type": "code",
   "execution_count": 8,
   "metadata": {},
   "outputs": [],
   "source": [
    "class Session:\n",
    "    \"\"\"Represents a single execution of the whole Computation graph.\"\"\"\n",
    "    # TODO: provide the Graph explicitly\n",
    "    \n",
    "    def run(self, operation, feed_dict={}):\n",
    "        \"\"\"Performs a post-order traversal of all nodes in the Computation graph,\n",
    "           so that all operations with known inputs are performed first.\n",
    "        \"\"\"\n",
    "        \n",
    "        nodes_in_post_order = Session.traverse_post_order(operation)\n",
    "        \n",
    "        outputs = {operation: None for operation in nodes_in_post_order}\n",
    "        \n",
    "        for node in nodes_in_post_order:\n",
    "            if type(node) == Placeholder:\n",
    "                outputs[node] = feed_dict[node]\n",
    "            elif type(node) == Variable:\n",
    "                outputs[node] = node.value\n",
    "            elif isinstance(node, Operation):\n",
    "                computed_inputs = [outputs[input_node] for input_node in node.input_nodes]\n",
    "                outputs[node] = node.compute(*computed_inputs)\n",
    "\n",
    "        return outputs[operation]\n",
    "\n",
    "    @staticmethod\n",
    "    def traverse_post_order(operation):\n",
    "        operations_post_order = []\n",
    "        \n",
    "        def traverse(node):\n",
    "            # Placeholders and Variables do not have input_nodes\n",
    "            if isinstance(node, Operation):\n",
    "                for input_node in node.input_nodes:\n",
    "                    traverse(input_node)\n",
    "\n",
    "            operations_post_order.append(node)\n",
    "        \n",
    "        traverse(operation)\n",
    "        return operations_post_order"
   ]
  },
  {
   "cell_type": "code",
   "execution_count": 25,
   "metadata": {},
   "outputs": [
    {
     "data": {
      "text/plain": [
       "array([ 2, -1])"
      ]
     },
     "execution_count": 25,
     "metadata": {},
     "output_type": "execute_result"
    }
   ],
   "source": [
    "graph = Graph().as_default()\n",
    "\n",
    "A = Variable(np.array([\n",
    "    [1, 0],\n",
    "    [0, -1]\n",
    "]))\n",
    "b = Variable(np.array([1, 1]))\n",
    "\n",
    "x = Placeholder()\n",
    "\n",
    "y = Add(Matmul(A, x), b)\n",
    "\n",
    "Session().run(y, feed_dict={\n",
    "    x: np.array([1, 2])\n",
    "})"
   ]
  }
 ],
 "metadata": {
  "kernelspec": {
   "display_name": "Python 3",
   "language": "python",
   "name": "python3"
  },
  "language_info": {
   "codemirror_mode": {
    "name": "ipython",
    "version": 3
   },
   "file_extension": ".py",
   "mimetype": "text/x-python",
   "name": "python",
   "nbconvert_exporter": "python",
   "pygments_lexer": "ipython3",
   "version": "3.6.6"
  }
 },
 "nbformat": 4,
 "nbformat_minor": 2
}

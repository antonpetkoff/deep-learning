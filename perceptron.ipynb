{
 "cells": [
  {
   "cell_type": "code",
   "execution_count": 1,
   "metadata": {},
   "outputs": [],
   "source": [
    "import numpy as np\n",
    "import math"
   ]
  },
  {
   "cell_type": "code",
   "execution_count": 2,
   "metadata": {},
   "outputs": [],
   "source": [
    "def batch_gradient_descent(X, Y, learning_rate=0.1, epochs=100, random_seed=1):\n",
    "    np.random.seed(random_seed)\n",
    "    \n",
    "    # initialize perception weights with small random numbers\n",
    "    weights = np.random.normal(0, 1, (len(X[0]) + 1,)) # do not forget the bias\n",
    "    \n",
    "    for epoch in range(epochs):\n",
    "        delta_weights = np.zeros(np.shape(weights))\n",
    "\n",
    "        for i in range(len(X)):\n",
    "            # preprend a 1 for the bias\n",
    "            input_with_bias = np.append([1], X[i])\n",
    "            \n",
    "            # compute output\n",
    "            output = weights.dot(input_with_bias)\n",
    "            \n",
    "            # accumulate deltas for each weight\n",
    "            delta_weights += learning_rate * (Y[i] - output) * input_with_bias\n",
    "        \n",
    "        # update weights\n",
    "        weights += delta_weights\n",
    "    return weights"
   ]
  },
  {
   "cell_type": "code",
   "execution_count": 3,
   "metadata": {},
   "outputs": [
    {
     "name": "stdout",
     "output_type": "stream",
     "text": [
      "[-0.5  0.5  0.5]\n"
     ]
    }
   ],
   "source": [
    "# AND\n",
    "\n",
    "X = np.array([\n",
    "    [-1, -1],\n",
    "    [-1, 1],\n",
    "    [1, -1],\n",
    "    [1, 1]\n",
    "])\n",
    "\n",
    "Y = np.array([\n",
    "    -1,\n",
    "    -1,\n",
    "    -1,\n",
    "    1\n",
    "])\n",
    "\n",
    "and_weights = batch_gradient_descent(X, Y)\n",
    "\n",
    "print(and_weights)"
   ]
  },
  {
   "cell_type": "code",
   "execution_count": 4,
   "metadata": {},
   "outputs": [
    {
     "name": "stdout",
     "output_type": "stream",
     "text": [
      "[-0.5  0.5 -0.5]\n"
     ]
    },
    {
     "data": {
      "text/plain": [
       "array([-0.5, -1.5,  0.5, -0.5])"
      ]
     },
     "execution_count": 4,
     "metadata": {},
     "output_type": "execute_result"
    }
   ],
   "source": [
    "# A AND (NOT B)\n",
    "\n",
    "X = np.array([\n",
    "    [-1, -1],\n",
    "    [-1, 1],\n",
    "    [1, -1],\n",
    "    [1, 1]\n",
    "])\n",
    "\n",
    "Y = np.array([\n",
    "    -1,\n",
    "    -1,\n",
    "    1,\n",
    "    -1\n",
    "])\n",
    "\n",
    "weights = batch_gradient_descent(X, Y, learning_rate=0.1, epochs=100)\n",
    "\n",
    "print(weights)\n",
    "\n",
    "X_with_bias = np.insert(X, 0, 1, axis=1) # prepend a column of ones to X for the bias\n",
    "X_with_bias.dot(weights)"
   ]
  },
  {
   "cell_type": "code",
   "execution_count": 5,
   "metadata": {},
   "outputs": [],
   "source": [
    "def sigmoid(x):\n",
    "    return 1 / (1 + math.exp(-x))\n",
    "\n",
    "def batch_gradient_descent_sigmoid(X, Y, learning_rate = 1, epochs = 1000, random_seed = 1):\n",
    "    np.random.seed(random_seed)\n",
    "    \n",
    "    # initialize perception weights with small random numbers\n",
    "    weights = np.random.normal(0, 1, (len(X[0]) + 1,)) # do not forget the bias\n",
    "    \n",
    "    for epoch in range(epochs):\n",
    "        delta_weights = np.zeros(np.shape(weights))\n",
    "\n",
    "        for i in range(len(X)):\n",
    "            # preprend a 1 for the bias\n",
    "            input_with_bias = np.append([1], X[i])\n",
    "            \n",
    "            # compute output\n",
    "            output = sigmoid(weights.dot(input_with_bias))\n",
    "            \n",
    "            # accumulate deltas for each weight\n",
    "            delta_weights += learning_rate * (Y[i] - output) * output * (1 - output) * input_with_bias\n",
    "        \n",
    "        # update weights\n",
    "        weights += delta_weights\n",
    "    return weights"
   ]
  },
  {
   "cell_type": "code",
   "execution_count": 6,
   "metadata": {},
   "outputs": [
    {
     "name": "stdout",
     "output_type": "stream",
     "text": [
      "[-17.68666264  15.14602335  17.48261067]\n"
     ]
    },
    {
     "data": {
      "text/plain": [
       "[1.4071626682154263e-22,\n",
       " 2.1554944080603084e-07,\n",
       " 2.013784680660647e-09,\n",
       " 0.9999996758215538]"
      ]
     },
     "execution_count": 6,
     "metadata": {},
     "output_type": "execute_result"
    }
   ],
   "source": [
    "# AND\n",
    "\n",
    "X = np.array([\n",
    "    [-1, -1],\n",
    "    [-1, 1],\n",
    "    [1, -1],\n",
    "    [1, 1]\n",
    "])\n",
    "\n",
    "Y = np.array([\n",
    "    -1,\n",
    "    -1,\n",
    "    -1,\n",
    "    1\n",
    "])\n",
    "\n",
    "and_weights = batch_gradient_descent_sigmoid(X, Y, learning_rate=50, epochs=10000)\n",
    "\n",
    "print(and_weights)\n",
    "X_with_bias = np.insert(X, 0, 1, axis=1) # prepend a column of ones to X for the bias\n",
    "list(map(sigmoid, X_with_bias.dot(and_weights)))"
   ]
  },
  {
   "cell_type": "code",
   "execution_count": 7,
   "metadata": {},
   "outputs": [],
   "source": [
    "def sigmoid(x):\n",
    "    return 1 / (1 + math.exp(-x))\n",
    "\n",
    "def stochastic_gradient_descent_sigmoid(X, Y, learning_rate = 1, epochs = 1000, random_seed = 1):\n",
    "    np.random.seed(random_seed)\n",
    "    \n",
    "    # initialize perception weights with small random numbers\n",
    "    weights = np.random.normal(0, 1, (len(X[0]) + 1,)) # do not forget the bias\n",
    "    \n",
    "    for epoch in range(epochs):\n",
    "        delta_weights = np.zeros(np.shape(weights))\n",
    "\n",
    "        for i in range(len(X)):\n",
    "            # preprend a 1 for the bias\n",
    "            input_with_bias = np.append([1], X[i])\n",
    "            \n",
    "            # compute output\n",
    "            output = sigmoid(weights.dot(input_with_bias))\n",
    "            \n",
    "            # accumulate deltas for each weight\n",
    "            delta_weights += learning_rate * (Y[i] - output) * output * (1 - output) * input_with_bias\n",
    "\n",
    "        # update weights\n",
    "        weights += delta_weights\n",
    "    return weights"
   ]
  }
 ],
 "metadata": {
  "kernelspec": {
   "display_name": "Python 3",
   "language": "python",
   "name": "python3"
  },
  "language_info": {
   "codemirror_mode": {
    "name": "ipython",
    "version": 3
   },
   "file_extension": ".py",
   "mimetype": "text/x-python",
   "name": "python",
   "nbconvert_exporter": "python",
   "pygments_lexer": "ipython3",
   "version": "3.6.6"
  }
 },
 "nbformat": 4,
 "nbformat_minor": 2
}
